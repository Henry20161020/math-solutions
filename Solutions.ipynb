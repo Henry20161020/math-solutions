{
  "nbformat": 4,
  "nbformat_minor": 0,
  "metadata": {
    "colab": {
      "provenance": [],
      "toc_visible": true,
      "authorship_tag": "ABX9TyN6LzlWt9M9eD/s/UFdkGID",
      "include_colab_link": true
    },
    "kernelspec": {
      "name": "python3",
      "display_name": "Python 3"
    },
    "language_info": {
      "name": "python"
    }
  },
  "cells": [
    {
      "cell_type": "markdown",
      "metadata": {
        "id": "view-in-github",
        "colab_type": "text"
      },
      "source": [
        "<a href=\"https://colab.research.google.com/github/Henry20161020/math-solutions/blob/main/Solutions.ipynb\" target=\"_parent\"><img src=\"https://colab.research.google.com/assets/colab-badge.svg\" alt=\"Open In Colab\"/></a>"
      ]
    },
    {
      "cell_type": "markdown",
      "source": [
        "Ex 2.11\n",
        "\n",
        "Suppose we toss a coin once and let p be the probability of heads. Let\n",
        "X denote the number of heads and let Y denote the number of tails.\n",
        "(a) Prove that X and Y are dependent.\n",
        "(b) Let N ∼ Poisson(λ) and suppose we toss a coin N times. Let X and\n",
        "Y be the number of heads and tails. Show that X and Y are independent.\n",
        "\n",
        "(a)\n",
        "\n",
        "*Proof.*\n",
        "\n",
        "To prove dependency, we just need one example to show that P(x)P(y) $\\neq$ P(x,y).\n",
        "\n",
        "Here we let P(X+Y=2) = 1 and P(X+Y=i) = 0 (For any $i \\in N, i \\neq 2$)\n",
        "\n",
        "Thus P(X = 1) = 2p(1-p), P(Y = 1) = 2p(1-p) and P(X = 1, Y=1) = P(X=1) = 2p(1- p). Therefore P(x)P(y) $\\neq$ P(x,y) when p(1-p) $\\leq $ 1/4\n",
        "\n",
        "*Q.E.D.*\n",
        "\n",
        "(b)\n",
        "\n",
        "*Proof.*\n",
        "\n",
        "As N ∼ Poisson(λ) P(X+Y=N) = $\\frac{\\lambda^N}{N!} e^{\\lambda}$\n",
        "\\begin{align*}\n",
        "P(X = x, Y = y) & = P(X+Y = N) P(X = x|X+Y=N) \\\\\n",
        "& = \\frac{\\lambda^{x+y}e^{-\\lambda}}{(x + y)!} *  \\binom{x + y}{x} p^x (1-p)^y \\\\\n",
        "&= e^{-\\lambda}\\frac{\\lambda^{x+y}}{(x + y)!} *  \\frac{(x+y)!}{x!y!} p^x (1-p)^y \\\\\n",
        "& = e^{-\\lambda} \\frac{\\lambda^x}{x!} p^x \\cdot \\frac{\\lambda^y}{y!} (1 - p)^y\n",
        "\\end{align*}\n",
        "Let g(x) = $e^{-\\lambda} \\frac{\\lambda^x}{x!} p^x$ and h(y) = $\\frac{\\lambda^y}{y!} (1 - p)^y$, we know X and Y are independant from theorem 2.33\n",
        "\n",
        "*Q.E.D.*"
      ],
      "metadata": {
        "id": "as1AZsdgUP7q"
      }
    }
  ]
}